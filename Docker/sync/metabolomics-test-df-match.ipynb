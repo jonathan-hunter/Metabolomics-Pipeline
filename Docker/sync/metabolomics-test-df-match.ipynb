{
 "cells": [
  {
   "cell_type": "code",
   "execution_count": 1,
   "metadata": {},
   "outputs": [
    {
     "name": "stdout",
     "output_type": "stream",
     "text": [
      "DataFrames are identical\n"
     ]
    }
   ],
   "source": [
    "import pandas as pd\n",
    "new = pd.read_csv(\"sync/Output/xcms_to_neatms.csv\")\n",
    "old = pd.read_csv(\"sync/Output/xcms_to_neatms_old.csv\")\n",
    "\n",
    "try:\n",
    "\tpd.testing.assert_frame_equal(new, old)\n",
    "\tprint(\"DataFrames are identical\")\n",
    "except AssertionError as e:\n",
    "\tprint(\"DataFrames are not identical\")\n",
    "\tprint(e)"
   ]
  }
 ],
 "metadata": {
  "kernelspec": {
   "display_name": "Python 3 (ipykernel)",
   "language": "python",
   "name": "python3"
  }
 },
 "nbformat": 4,
 "nbformat_minor": 2
}
