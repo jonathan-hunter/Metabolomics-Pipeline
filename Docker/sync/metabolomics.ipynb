{
 "cells": [
  {
   "cell_type": "markdown",
   "metadata": {},
   "source": [
    "# Pangea Bio Case Study"
   ]
  },
  {
   "cell_type": "code",
   "execution_count": 7,
   "metadata": {},
   "outputs": [
    {
     "name": "stdout",
     "output_type": "stream",
     "text": [
      "The rpy2.ipython extension is already loaded. To reload it, use:\n",
      "  %reload_ext rpy2.ipython\n"
     ]
    }
   ],
   "source": [
    "%load_ext rpy2.ipython\n",
    "import rpy2.robjects as robjects"
   ]
  },
  {
   "cell_type": "code",
   "execution_count": null,
   "metadata": {},
   "outputs": [
    {
     "name": "stderr",
     "output_type": "stream",
     "text": [
      "R[write to console]: Bioconductor version 3.18 (BiocManager 1.30.25), R 4.3.3 (2024-02-29)\n",
      "\n",
      "R[write to console]: Bioconductor version '3.18' is out-of-date; the current release version '3.20'\n",
      "  is available with R version '4.4'; see https://bioconductor.org/install\n",
      "\n"
     ]
    }
   ],
   "source": [
    "%%R \n",
    "#library(crayon)\n",
    "library(xcms)\n",
    "#library(MsExperiment)\n",
    "#library(Spectra)\n",
    "\n",
    "# Define the file names.\n",
    "#fls <- dir(system.file(\"~/sync/Data\", package = \"msdata\"), full.names = TRUE)\n"
   ]
  },
  {
   "cell_type": "code",
   "execution_count": null,
   "metadata": {},
   "outputs": [],
   "source": []
  }
 ],
 "metadata": {
  "kernelspec": {
   "display_name": "Python 3 (ipykernel)",
   "language": "python",
   "name": "python3"
  },
  "language_info": {
   "codemirror_mode": {
    "name": "ipython",
    "version": 3
   },
   "file_extension": ".py",
   "mimetype": "text/x-python",
   "name": "python",
   "nbconvert_exporter": "python",
   "pygments_lexer": "ipython3",
   "version": "3.9.21"
  }
 },
 "nbformat": 4,
 "nbformat_minor": 2
}
