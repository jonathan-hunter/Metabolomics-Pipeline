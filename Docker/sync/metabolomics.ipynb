{
 "cells": [
  {
   "cell_type": "markdown",
   "metadata": {},
   "source": [
    "# Pangea Bio Case Study"
   ]
  },
  {
   "cell_type": "markdown",
   "metadata": {},
   "source": [
    "#### 1.1. Initialise R within python using rpy2"
   ]
  },
  {
   "cell_type": "code",
   "execution_count": 1,
   "metadata": {},
   "outputs": [],
   "source": [
    "%load_ext rpy2.ipython\n",
    "import rpy2.robjects as robjects"
   ]
  },
  {
   "cell_type": "markdown",
   "metadata": {},
   "source": [
    "#### 1.2. Data import and display in the R environment"
   ]
  },
  {
   "cell_type": "code",
   "execution_count": 40,
   "metadata": {},
   "outputs": [
    {
     "name": "stdout",
     "output_type": "stream",
     "text": [
      "MSn data (Spectra) with 14158 spectra in a MsBackendMzR backend:\n",
      "        msLevel     rtime scanIndex\n",
      "      <integer> <numeric> <integer>\n",
      "1             1   60.1037         1\n",
      "2             1   60.5355         2\n",
      "3             1   60.8529         3\n",
      "4             1   61.1703         4\n",
      "5             1   61.4918         5\n",
      "...         ...       ...       ...\n",
      "14154         2   1949.47     14154\n",
      "14155         1   1949.60     14155\n",
      "14156         2   1949.86     14156\n",
      "14157         2   1949.97     14157\n",
      "14158         2   1950.05     14158\n",
      " ... 33 more variables/columns.\n",
      "\n",
      "file(s):\n",
      "blank.mzXML\n",
      "MSn data (Spectra) with 14163 spectra in a MsBackendMzR backend:\n",
      "        msLevel     rtime scanIndex\n",
      "      <integer> <numeric> <integer>\n",
      "1             1   60.1130         1\n",
      "2             1   60.5526         2\n",
      "3             1   60.9003         3\n",
      "4             1   61.2480         4\n",
      "5             1   61.5684         5\n",
      "...         ...       ...       ...\n",
      "14159         2   1949.57     14159\n",
      "14160         2   1949.67     14160\n",
      "14161         2   1949.77     14161\n",
      "14162         1   1949.90     14162\n",
      "14163         2   1950.17     14163\n",
      " ... 33 more variables/columns.\n",
      "\n",
      "file(s):\n",
      "extract.mzXML\n"
     ]
    }
   ],
   "source": [
    "%%R \n",
    "library(xcms)\n",
    "library(MsExperiment)\n",
    "library(Spectra)\n",
    "\n",
    "# Get the list of files in the ~/sync/Data directory\n",
    "file_list <- list.files(path = \"~/sync/Data\", full.names = TRUE)\n",
    "\n",
    "# Define a data.frame with additional information on these files.\n",
    "sample_metadata <- data.frame(file = basename(file_list),\n",
    "                 sample = c(\"blank\", \"extract\"))\n",
    "\n",
    "# Import the data of the experiment\n",
    "sample_data <- readMsExperiment(file_list, sampleData = sample_metadata)\n",
    "\n",
    "# Subset the data\n",
    "sample_data_blank <- sample_data[1]\n",
    "sample_data_extract <- sample_data[2]\n",
    "\n",
    "# Extract sample information\n",
    "sampleData(sample_data_extract)\n",
    "\n",
    "# Display sample spectra table\n",
    "print(spectra(sample_data_blank))\n",
    "print(spectra(sample_data_extract))\n"
   ]
  },
  {
   "cell_type": "markdown",
   "metadata": {},
   "source": [
    "#### 1.3. List available spectra variables"
   ]
  },
  {
   "cell_type": "code",
   "execution_count": 39,
   "metadata": {},
   "outputs": [
    {
     "name": "stdout",
     "output_type": "stream",
     "text": [
      " [1] \"msLevel\"                  \"rtime\"                   \n",
      " [3] \"acquisitionNum\"           \"scanIndex\"               \n",
      " [5] \"dataStorage\"              \"dataOrigin\"              \n",
      " [7] \"centroided\"               \"smoothed\"                \n",
      " [9] \"polarity\"                 \"precScanNum\"             \n",
      "[11] \"precursorMz\"              \"precursorIntensity\"      \n",
      "[13] \"precursorCharge\"          \"collisionEnergy\"         \n",
      "[15] \"isolationWindowLowerMz\"   \"isolationWindowTargetMz\" \n",
      "[17] \"isolationWindowUpperMz\"   \"peaksCount\"              \n",
      "[19] \"totIonCurrent\"            \"basePeakMZ\"              \n",
      "[21] \"basePeakIntensity\"        \"ionisationEnergy\"        \n",
      "[23] \"lowMZ\"                    \"highMZ\"                  \n",
      "[25] \"mergedScan\"               \"mergedResultScanNum\"     \n",
      "[27] \"mergedResultStartScanNum\" \"mergedResultEndScanNum\"  \n",
      "[29] \"injectionTime\"            \"filterString\"            \n",
      "[31] \"spectrumId\"               \"ionMobilityDriftTime\"    \n",
      "[33] \"scanWindowLowerLimit\"     \"scanWindowUpperLimit\"    \n"
     ]
    }
   ],
   "source": [
    "%%R \n",
    "spectra(sample_data) |>\n",
    "    spectraVariables()"
   ]
  },
  {
   "cell_type": "code",
   "execution_count": null,
   "metadata": {},
   "outputs": [],
   "source": []
  }
 ],
 "metadata": {
  "kernelspec": {
   "display_name": "Python 3 (ipykernel)",
   "language": "python",
   "name": "python3"
  },
  "language_info": {
   "codemirror_mode": {
    "name": "ipython",
    "version": 3
   },
   "file_extension": ".py",
   "mimetype": "text/x-python",
   "name": "python",
   "nbconvert_exporter": "python",
   "pygments_lexer": "ipython3",
   "version": "3.12.3"
  }
 },
 "nbformat": 4,
 "nbformat_minor": 2
}
