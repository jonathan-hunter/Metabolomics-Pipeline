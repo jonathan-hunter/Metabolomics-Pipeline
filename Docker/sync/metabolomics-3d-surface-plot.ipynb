{
 "cells": [
  {
   "cell_type": "code",
   "execution_count": 1,
   "metadata": {},
   "outputs": [],
   "source": [
    "# Initialize R magic (rpy2) for Jupyter Notebook\n",
    "%load_ext rpy2.ipython "
   ]
  },
  {
   "cell_type": "code",
   "execution_count": 2,
   "metadata": {},
   "outputs": [
    {
     "data": {
      "text/plain": [
       "Loading required package: BiocParallel\n",
       "Loading required package: MSnbase\n",
       "Loading required package: BiocGenerics\n",
       "\n",
       "Attaching package: ‘BiocGenerics’\n",
       "\n",
       "The following objects are masked from ‘package:stats’:\n",
       "\n",
       "    IQR, mad, sd, var, xtabs\n",
       "\n",
       "The following objects are masked from ‘package:base’:\n",
       "\n",
       "    Filter, Find, Map, Position, Reduce, anyDuplicated, aperm, append,\n",
       "    as.data.frame, basename, cbind, colnames, dirname, do.call,\n",
       "    duplicated, eval, evalq, get, grep, grepl, intersect, is.unsorted,\n",
       "    lapply, mapply, match, mget, order, paste, pmax, pmax.int, pmin,\n",
       "    pmin.int, rank, rbind, rownames, sapply, setdiff, sort, table,\n",
       "    tapply, union, unique, unsplit, which.max, which.min\n",
       "\n",
       "Loading required package: Biobase\n",
       "Welcome to Bioconductor\n",
       "\n",
       "    Vignettes contain introductory material; view with\n",
       "    'browseVignettes()'. To cite Bioconductor, see\n",
       "    'citation(\"Biobase\")', and for packages 'citation(\"pkgname\")'.\n",
       "\n",
       "Loading required package: mzR\n",
       "Loading required package: Rcpp\n",
       "Loading required package: S4Vectors\n",
       "Loading required package: stats4\n",
       "\n",
       "Attaching package: ‘S4Vectors’\n",
       "\n",
       "The following object is masked from ‘package:utils’:\n",
       "\n",
       "    findMatches\n",
       "\n",
       "The following objects are masked from ‘package:base’:\n",
       "\n",
       "    I, expand.grid, unname\n",
       "\n",
       "Loading required package: ProtGenerics\n",
       "\n",
       "Attaching package: ‘ProtGenerics’\n",
       "\n",
       "The following object is masked from ‘package:stats’:\n",
       "\n",
       "    smooth\n",
       "\n",
       "\n",
       "This is MSnbase version 2.28.1 \n",
       "  Visit https://lgatto.github.io/MSnbase/ to get started.\n",
       "\n",
       "\n",
       "Attaching package: ‘MSnbase’\n",
       "\n",
       "The following object is masked from ‘package:base’:\n",
       "\n",
       "    trimws\n",
       "\n",
       "\n",
       "This is xcms version 4.0.2 \n",
       "\n",
       "\n",
       "Attaching package: ‘xcms’\n",
       "\n",
       "The following object is masked from ‘package:stats’:\n",
       "\n",
       "    sigma\n",
       "\n",
       "\n",
       "Attaching package: ‘Spectra’\n",
       "\n",
       "The following objects are masked from ‘package:xcms’:\n",
       "\n",
       "    estimatePrecursorIntensity, pickPeaks, ppm\n",
       "\n",
       "The following objects are masked from ‘package:MSnbase’:\n",
       "\n",
       "    combineSpectra, pickPeaks, plotMzDelta\n",
       "\n",
       "Loading required package: viridisLite\n",
       "In addition: Warning messages:\n",
       "1: In (function (package, help, pos = 2, lib.loc = NULL, character.only = FALSE,  :\n",
       "  library ‘/usr/lib/R/site-library’ contains no packages\n",
       "2: In rgl.init(initValue, onlyNULL) : RGL: unable to open X11 display\n",
       "3: 'rgl.init' failed, will use the null device.\n",
       "See '?rgl.useNULL' for ways to avoid this warning. \n"
      ]
     },
     "metadata": {},
     "output_type": "display_data"
    }
   ],
   "source": [
    "%%R\n",
    "### Import R Libraries ###\n",
    "library(xcms)\n",
    "library(MsExperiment)\n",
    "library(Spectra)\n",
    "library(CAMERA)\n",
    "library(rgl)\n",
    "library(htmlwidgets)\n",
    "library(viridis)\n"
   ]
  },
  {
   "cell_type": "code",
   "execution_count": 3,
   "metadata": {},
   "outputs": [
    {
     "name": "stdout",
     "output_type": "stream",
     "text": [
      " 'rglLowlevel' int 15\n",
      "NULL\n",
      "[1] \"rglLowlevel\"\n"
     ]
    },
    {
     "data": {
      "text/plain": [
       "Create profile matrix with method 'bin' and step 1 ... OK\n",
       "In addition: Warning messages:\n",
       "1: 'rgl.open' is deprecated.\n",
       "Use 'open3d' instead.\n",
       "See help(\"Deprecated\") \n",
       "2: 'rgl.bg' is deprecated.\n",
       "Use 'bg3d' instead.\n",
       "See help(\"Deprecated\") \n",
       "3: 'rgl.bbox' is deprecated.\n",
       "Use 'bbox3d' instead.\n",
       "See help(\"Deprecated\") \n"
      ]
     },
     "metadata": {},
     "output_type": "display_data"
    }
   ],
   "source": [
    "%%R\n",
    "# 1. Open an offscreen rgl device.\n",
    "open3d(useNULL=TRUE)\n",
    "rgl.open(useNULL = TRUE)\n",
    "\n",
    "# 2. Read the raw data (old xcms style).\n",
    "#    Adjust the file path as needed.\n",
    "raw_data <- xcmsRaw(\"sync/Data/mzXML/extract.mzXML\")\n",
    "\n",
    "# 3. Create the 3D surface plot.\n",
    "#    - mzrange sets the m/z boundaries\n",
    "#    - rtrange sets the retention time boundaries (in seconds)\n",
    "viridis_colormap <- function(n) {\n",
    "  viridis(n)\n",
    "}\n",
    "\n",
    "surf <- plotSurf(\n",
    "    raw_data,\n",
    "    mzrange = c(100, 1000),\n",
    "    rtrange = c(200, 2350),\n",
    "    log = FALSE,       # Set to TRUE if you want log-transformed intensities\n",
    ")\n",
    "\n",
    "print(str(surf))\n",
    "print(is(surf))\n",
    "\n",
    "# Remove background, bounding box, axes, and axes labels, change cmap\n",
    "rgl.bg(color = \"white\", alpha = 0)\n",
    "rgl.bbox(xlen = 0, ylen = 0, zlen = 0, alpha = 0)\n",
    "\n",
    "widget <- rglwidget(width = 1600, height = 1600)\n",
    "\n",
    "output_path <- \"sync/Output/3D_LCMS_Plot.html\"\n",
    "\n",
    "saveWidget(widget, file = output_path, selfcontained = FALSE)"
   ]
  }
 ],
 "metadata": {
  "kernelspec": {
   "display_name": "Python 3 (ipykernel)",
   "language": "python",
   "name": "python3"
  },
  "language_info": {
   "codemirror_mode": {
    "name": "ipython",
    "version": 3
   },
   "file_extension": ".py",
   "mimetype": "text/x-python",
   "name": "python",
   "nbconvert_exporter": "python",
   "pygments_lexer": "ipython3",
   "version": "3.12.3"
  }
 },
 "nbformat": 4,
 "nbformat_minor": 2
}
