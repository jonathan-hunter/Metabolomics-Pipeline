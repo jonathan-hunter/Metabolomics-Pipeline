{
 "cells": [
  {
   "cell_type": "code",
   "execution_count": 36,
   "metadata": {},
   "outputs": [
    {
     "name": "stdout",
     "output_type": "stream",
     "text": [
      "The rpy2.ipython extension is already loaded. To reload it, use:\n",
      "  %reload_ext rpy2.ipython\n"
     ]
    }
   ],
   "source": [
    "# Initialize R magic (rpy2) for Jupyter Notebook\n",
    "%load_ext rpy2.ipython "
   ]
  },
  {
   "cell_type": "code",
   "execution_count": 37,
   "metadata": {},
   "outputs": [],
   "source": [
    "%%R\n",
    "### Import R Libraries ###\n",
    "library(xcms)\n",
    "library(MsExperiment)\n",
    "library(Spectra)\n",
    "library(CAMERA)\n",
    "library(rgl)\n",
    "library(htmlwidgets)\n",
    "library(viridis)\n"
   ]
  },
  {
   "cell_type": "code",
   "execution_count": 38,
   "metadata": {},
   "outputs": [
    {
     "name": "stdout",
     "output_type": "stream",
     "text": [
      " 'rglLowlevel' int 570\n",
      "NULL\n",
      "[1] \"rglLowlevel\"\n"
     ]
    },
    {
     "data": {
      "text/plain": [
       "Create profile matrix with method 'bin' and step 1 ... OK\n",
       "In addition: Warning messages:\n",
       "1: 'rgl.open' is deprecated.\n",
       "Use 'open3d' instead.\n",
       "See help(\"Deprecated\") \n",
       "2: 'rgl.bg' is deprecated.\n",
       "Use 'bg3d' instead.\n",
       "See help(\"Deprecated\") \n",
       "3: 'rgl.bbox' is deprecated.\n",
       "Use 'bbox3d' instead.\n",
       "See help(\"Deprecated\") \n"
      ]
     },
     "metadata": {},
     "output_type": "display_data"
    }
   ],
   "source": [
    "%%R\n",
    "# 1. Open an offscreen rgl device.\n",
    "open3d(useNULL=TRUE)\n",
    "rgl.open(useNULL = TRUE)\n",
    "\n",
    "# 2. Read the raw data (old xcms style).\n",
    "#    Adjust the file path as needed.\n",
    "raw_data <- xcmsRaw(\"sync/Data/mzXML/extract.mzXML\")\n",
    "\n",
    "# 3. Create the 3D surface plot.\n",
    "#    - mzrange sets the m/z boundaries\n",
    "#    - rtrange sets the retention time boundaries (in seconds)\n",
    "viridis_colormap <- function(n) {\n",
    "  viridis(n)\n",
    "}\n",
    "\n",
    "surf <- plotSurf(\n",
    "    raw_data,\n",
    "    mzrange = c(100, 1000),\n",
    "    rtrange = c(200, 2350),\n",
    "    log = FALSE,       # Set to TRUE if you want log-transformed intensities\n",
    ")\n",
    "\n",
    "print(str(surf))\n",
    "print(is(surf))\n",
    "\n",
    "# Remove background, bounding box, axes, and axes labels, change cmap\n",
    "rgl.bg(color = \"white\", alpha = 0)\n",
    "rgl.bbox(xlen = 0, ylen = 0, zlen = 0, alpha = 0)\n",
    "\n",
    "widget <- rglwidget(width = 1600, height = 1600)\n",
    "\n",
    "output_path <- \"sync/Output/3D_LCMS_Plot.html\"\n",
    "\n",
    "saveWidget(widget, file = output_path, selfcontained = FALSE)"
   ]
  }
 ],
 "metadata": {
  "kernelspec": {
   "display_name": "Python 3 (ipykernel)",
   "language": "python",
   "name": "python3"
  }
 },
 "nbformat": 4,
 "nbformat_minor": 2
}
